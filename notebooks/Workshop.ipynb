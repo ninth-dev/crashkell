{
 "cells": [
  {
   "cell_type": "markdown",
   "metadata": {},
   "source": [
    "# CRASHKELL\n",
    "\n",
    "### Learn Haskell by Crashing!\n",
    "\n",
    "\n",
    "*Author: Lyndon Maydwell*\n",
    "\n",
    "Hover under cells for hints.\n"
   ]
  },
  {
   "cell_type": "markdown",
   "metadata": {},
   "source": [
    "#### Workshop Format\n",
    "\n",
    "Strings:\n",
    "\n",
    "* How strings and printing work\n",
    "* Precedence and parentheses\n",
    "\n",
    "Booleans:\n",
    "\n",
    "* Booleans and equality\n",
    "* Comparison\n",
    "* 'if' and 'case' statements\n",
    "\n",
    "Lists:\n",
    "\n",
    "* List syntax\n",
    "* Enumeration\n",
    "* Pattern matching\n",
    "\n",
    "Functions:\n",
    "\n",
    "* Pattern matching in functions\n",
    "* Partial functions\n",
    "* Guards\n",
    "\n",
    "Tuples:\n",
    "\n",
    "* Constructing tuples\n",
    "* Pattern matching on tuples\n",
    "\n",
    "Data:\n",
    "\n",
    "* Your own data-types\n",
    "* Constructors\n",
    "* Multiple constructors\n",
    "* Recursive data-types\n",
    "* Parameterised data-types"
   ]
  },
  {
   "cell_type": "markdown",
   "metadata": {},
   "source": [
    "## Chapter: Strings"
   ]
  },
  {
   "cell_type": "code",
   "execution_count": null,
   "metadata": {},
   "outputs": [],
   "source": [
    "\"All about strings!"
   ]
  },
  {
   "cell_type": "markdown",
   "metadata": {},
   "source": [
    "<span class=\"hint\">\n",
    "    Strings must be quoted with an open and close quote.\n",
    "</span>"
   ]
  },
  {
   "cell_type": "markdown",
   "metadata": {},
   "source": [
    "### Exercise: \"Hello World\""
   ]
  },
  {
   "cell_type": "code",
   "execution_count": null,
   "metadata": {},
   "outputs": [],
   "source": [
    "prinp \"Hello Sworld\""
   ]
  },
  {
   "cell_type": "markdown",
   "metadata": {},
   "source": [
    "<span class=\"hint\">\n",
    "    You can print anything showable to STDOUT using the \"print\" function.\n",
    "</span>"
   ]
  },
  {
   "cell_type": "markdown",
   "metadata": {},
   "source": [
    "### Exercise: Quoth the Raven\n"
   ]
  },
  {
   "cell_type": "code",
   "execution_count": null,
   "metadata": {},
   "outputs": [],
   "source": [
    "'Nevermore'"
   ]
  },
  {
   "cell_type": "markdown",
   "metadata": {},
   "source": [
    "<span class=\"hint\">\n",
    "    Strings must be quoted with double-quotes.\n",
    "</span>"
   ]
  },
  {
   "cell_type": "markdown",
   "metadata": {},
   "source": [
    "### Exercise: Parens"
   ]
  },
  {
   "cell_type": "code",
   "execution_count": null,
   "metadata": {},
   "outputs": [],
   "source": [
    "(print \"Hi!\"))"
   ]
  },
  {
   "cell_type": "markdown",
   "metadata": {},
   "source": [
    "<span class=\"hint\">\n",
    "    Your parentheses must be balanced.\n",
    "</span>"
   ]
  },
  {
   "cell_type": "markdown",
   "metadata": {},
   "source": [
    "### Exercise: Combining Strings"
   ]
  },
  {
   "cell_type": "code",
   "execution_count": null,
   "metadata": {},
   "outputs": [],
   "source": [
    "print \"Hello\" ++ \"World\""
   ]
  },
  {
   "cell_type": "markdown",
   "metadata": {},
   "source": [
    "<span class=\"hint\">\n",
    "    Precedence matters. Parenthesise your constructed string.\n",
    "</span>"
   ]
  },
  {
   "cell_type": "markdown",
   "metadata": {},
   "source": [
    "### Exercise: Variables"
   ]
  },
  {
   "cell_type": "code",
   "execution_count": null,
   "metadata": {},
   "outputs": [],
   "source": [
    "let\n",
    "  h = \"Hello\"\n",
    "  W = \"World\"\n",
    "  p = h ++ \" \" ++ W\n",
    "  in print p"
   ]
  },
  {
   "cell_type": "markdown",
   "metadata": {},
   "source": [
    "<span class=\"hint\">\n",
    "    Variables must start with a lower-case letter.\n",
    "</span>"
   ]
  },
  {
   "cell_type": "markdown",
   "metadata": {},
   "source": [
    "## Chapter: Booleans"
   ]
  },
  {
   "cell_type": "code",
   "execution_count": null,
   "metadata": {},
   "outputs": [],
   "source": [
    "if true then 1 else 2"
   ]
  },
  {
   "cell_type": "markdown",
   "metadata": {},
   "source": [
    "<span class=\"hint\">\n",
    "    Booleans True and False start with capital letters.\n",
    "</span>"
   ]
  },
  {
   "cell_type": "markdown",
   "metadata": {},
   "source": [
    "### Exercise: Equality"
   ]
  },
  {
   "cell_type": "code",
   "execution_count": null,
   "metadata": {},
   "outputs": [],
   "source": [
    "1 + 1 == \"Two\""
   ]
  },
  {
   "cell_type": "markdown",
   "metadata": {},
   "source": [
    "<span class=\"hint\">\n",
    "    Only things of the same type can be compared for equality.\n",
    "    For example: Two numbers, two strings, etc.\n",
    "</span>\n"
   ]
  },
  {
   "cell_type": "markdown",
   "metadata": {},
   "source": [
    "### Exercise: Case"
   ]
  },
  {
   "cell_type": "code",
   "execution_count": null,
   "metadata": {},
   "outputs": [],
   "source": [
    "case 1 = 2 of\n",
    "    True  -> print \"weird\"\n",
    "    False -> print \"expected\""
   ]
  },
  {
   "cell_type": "markdown",
   "metadata": {},
   "source": [
    "<span class=\"hint\">\n",
    "    Equality is queried with the 'double-equals' operator.\n",
    "</span>"
   ]
  },
  {
   "cell_type": "markdown",
   "metadata": {},
   "source": [
    "## Chapter: Lists"
   ]
  },
  {
   "cell_type": "code",
   "execution_count": null,
   "metadata": {},
   "outputs": [],
   "source": [
    "[1,2,3"
   ]
  },
  {
   "cell_type": "markdown",
   "metadata": {},
   "source": [
    "<span class=\"hint\">\n",
    "    Use balanced square braces to construct lists!\n",
    "</span>"
   ]
  },
  {
   "cell_type": "markdown",
   "metadata": {},
   "source": [
    "## Chapter: Functions"
   ]
  },
  {
   "cell_type": "code",
   "execution_count": null,
   "metadata": {},
   "outputs": [],
   "source": [
    "nth 0 (x:_ ) = x\n",
    "nth n (_:xs) = nth (pred n) xs"
   ]
  },
  {
   "cell_type": "code",
   "execution_count": null,
   "metadata": {
    "scrolled": true
   },
   "outputs": [],
   "source": [
    "nth 5 [1,2,3]"
   ]
  },
  {
   "cell_type": "markdown",
   "metadata": {},
   "source": [
    "<span class=\"hint\">\n",
    "    Errors can be raised when results are partially defined!\n",
    "</span>"
   ]
  },
  {
   "cell_type": "markdown",
   "metadata": {},
   "source": [
    "## Chapter: Data"
   ]
  },
  {
   "cell_type": "code",
   "execution_count": null,
   "metadata": {},
   "outputs": [],
   "source": [
    "newtype Animal = Dog | Cat"
   ]
  },
  {
   "cell_type": "markdown",
   "metadata": {},
   "source": [
    "<span class=\"hint\">\n",
    "    You must use the 'data' keyword to define multi-constructor data-types.\n",
    "</span>"
   ]
  },
  {
   "cell_type": "markdown",
   "metadata": {},
   "source": [
    "### Exercise: Operating on Your Own Data-Types"
   ]
  },
  {
   "cell_type": "code",
   "execution_count": null,
   "metadata": {},
   "outputs": [],
   "source": [
    "whatAnimal \"woof\" = Dog\n",
    "whatAnimal \"meow\" = Cat"
   ]
  },
  {
   "cell_type": "code",
   "execution_count": null,
   "metadata": {},
   "outputs": [],
   "source": [
    "whatAnimal \"woof\""
   ]
  },
  {
   "cell_type": "markdown",
   "metadata": {},
   "source": [
    "<span class=\"hint\">\n",
    "    You must have a 'Show' instance defined for values which you wish to see!\n",
    "</span>"
   ]
  },
  {
   "cell_type": "markdown",
   "metadata": {},
   "source": [
    "### Exercise: Explicit Constructors"
   ]
  },
  {
   "cell_type": "code",
   "execution_count": null,
   "metadata": {},
   "outputs": [],
   "source": [
    "1:2:2:[] = [1,2,3]"
   ]
  },
  {
   "cell_type": "code",
   "execution_count": null,
   "metadata": {},
   "outputs": [],
   "source": []
  },
  {
   "cell_type": "code",
   "execution_count": null,
   "metadata": {},
   "outputs": [],
   "source": []
  },
  {
   "cell_type": "code",
   "execution_count": null,
   "metadata": {},
   "outputs": [],
   "source": []
  },
  {
   "cell_type": "markdown",
   "metadata": {},
   "source": [
    "\n",
    "```haskell\n",
    "let (_:x:y:_) = [1..100] in [y,y,y,x]\n",
    "```\n",
    "\n",
    "## Exercise: Enumerations\n",
    "\n",
    "```haskell\n",
    "[1,2,3,4,5,6] == [1..6]\n",
    "```\n",
    "\n",
    "```haskell\n",
    "[1..6] == enumFromTo 1 6\n",
    "```\n",
    "\n",
    "## Exercise: Zipping\n",
    "\n",
    "```haskell\n",
    "[5,7,9] == zipWith (+) [1..3] [4..6]\n",
    "```\n",
    "\n",
    "# Chapter: Tuples\n",
    "\n",
    "```haskell\n",
    "let (a,b) = (1,2,3) in a * 2 + b * 3\n",
    "```\n",
    "\n",
    "# Chapter: Numbers\n",
    "\n",
    "```haskell\n",
    "1 ? 1 == 2\n",
    "```\n",
    "\n",
    "```why\n",
    "You can combine numbers with the usual arithmatic operations such as +, *, etc.\n",
    "```\n",
    "\n",
    "## Exercise: Multiplication\n",
    "\n",
    "```haskell\n",
    "let x@(7,10,10) = (2 * 2 + 3, 3 + 2 * 2, (3 + 2) * 2) in x\n",
    "```\n",
    "\n",
    "```why\n",
    "BFIMDAS precendence is followed. Use parens for specific groupings.\n",
    "\n",
    "Brackets\n",
    "Functions\n",
    "Indices\n",
    "Multiplication\n",
    "Division\n",
    "Addition\n",
    "Subtraction\n",
    "```\n",
    "\n",
    "# Chapter: Lists\n",
    "\n",
    "```haskell\n",
    "product (1,2,3)\n",
    "```\n",
    "\n",
    "```why\n",
    "The product function takes a list.\n",
    "Lists are written using square brackets.\n",
    "```\n",
    "\n",
    "## Exercise: Ranges\n",
    "\n",
    "```haskell\n",
    "[10..1]\n",
    "```\n",
    "\n",
    "## Exercise: Mapping\n",
    "\n",
    "```haskell\n",
    "map succ [1..10]\n",
    "```\n",
    "\n",
    "# Chapter: Lambdas\n",
    "\n",
    "```haskell\n",
    "map (\\x -> x+1) [1..10]\n",
    "```\n",
    "\n",
    "\n",
    "\n",
    "<br />\n",
    "<br />\n",
    "<br />\n",
    "<br />\n",
    "<br />\n",
    "<br />\n",
    "<br />\n",
    "<br />\n",
    "<br />\n",
    "<br />\n"
   ]
  },
  {
   "cell_type": "code",
   "execution_count": null,
   "metadata": {},
   "outputs": [],
   "source": []
  }
 ],
 "metadata": {
  "kernelspec": {
   "display_name": "Haskell",
   "language": "haskell",
   "name": "haskell"
  },
  "language_info": {
   "codemirror_mode": "ihaskell",
   "file_extension": ".hs",
   "name": "haskell",
   "version": "8.2.2"
  }
 },
 "nbformat": 4,
 "nbformat_minor": 2
}
