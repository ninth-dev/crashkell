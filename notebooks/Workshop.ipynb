{
 "cells": [
  {
   "cell_type": "markdown",
   "metadata": {},
   "source": [
    "# CRASHKELL\n",
    "\n",
    "### Learn Haskell by Crashing!\n",
    "\n",
    "\n",
    "*Author: Lyndon Maydwell*\n",
    "\n",
    "Hover under cells for hints.\n"
   ]
  },
  {
   "cell_type": "markdown",
   "metadata": {},
   "source": [
    "\n",
    "[Strings](#Chapter:-Strings):\n",
    "\n",
    "* How strings and printing work\n",
    "* Precedence and parentheses\n",
    "* Getting type info\n",
    "* Type annotations\n",
    "* *Sorbet: 99 Bottles of String on the Wall*\n",
    "\n",
    "[Numbers](#Chapter:-Numbers):\n",
    "\n",
    "* Integers (and Ints)\n",
    "* Addition, etc.\n",
    "* Predecessors/Successors\n",
    "* Floats\n",
    "* Combining Ints and Floats\n",
    "* *Sorbet: GHC as a Calculator*\n",
    "\n",
    "[Booleans](#Chapter:-Booleans):\n",
    "\n",
    "* Booleans and equality\n",
    "* Comparison\n",
    "* 'if' and 'case' statements\n",
    "\n",
    "[Lists](#Chapter:-Lists):\n",
    "\n",
    "* Storing collections of items\n",
    "* List syntax\n",
    "* Enumeration\n",
    "* Pattern matching\n",
    "\n",
    "[Functions](#Chapter:-Functions):\n",
    "\n",
    "* Pattern matching in functions\n",
    "* Partial functions\n",
    "* Guards\n",
    "\n",
    "[Lambdas](#Chapter:-Lambdas):\n",
    "\n",
    "* Lambda syntax\n",
    "* Using lambdas inline\n",
    "\n",
    "[Tuples](#Chapter:-Tuples):\n",
    "\n",
    "* Constructing tuples\n",
    "* Pattern matching on tuples\n",
    "* Returning multiple results\n",
    "\n",
    "[Data](#Chapter:-Data):\n",
    "\n",
    "* Your own data-types\n",
    "* Constructors\n",
    "* Multiple constructors\n",
    "* Recursive data-types\n",
    "* Parameterised data-types\n",
    "\n",
    "[Classes](#Chapter:-Classes):\n",
    "\n",
    "* FOO\n",
    "\n",
    "\n",
    "...\n",
    "\n",
    "\n",
    "Ultimately what we want to end up with\n",
    "\n",
    "* Creation of something interesting and useful.\n",
    "* Using complex data-type\n",
    "* Including IO\n",
    "* Including laziness\n",
    "* Including classes\n",
    "* Including graphics? Tabular data? Html?\n",
    "\n",
    "\n",
    "[Appendix](#Chapter:-Appendix):\n",
    "\n",
    "* References\n",
    "\n"
   ]
  },
  {
   "cell_type": "markdown",
   "metadata": {},
   "source": [
    "## Chapter: Strings"
   ]
  },
  {
   "cell_type": "code",
   "execution_count": null,
   "metadata": {},
   "outputs": [],
   "source": [
    "\"All about strings!"
   ]
  },
  {
   "cell_type": "markdown",
   "metadata": {},
   "source": [
    "<span class=\"hint\">\n",
    "    Strings must be quoted with an open and close quote.\n",
    "</span>"
   ]
  },
  {
   "cell_type": "markdown",
   "metadata": {},
   "source": [
    "### Exercise: \"Hello World\""
   ]
  },
  {
   "cell_type": "code",
   "execution_count": null,
   "metadata": {},
   "outputs": [],
   "source": [
    "prinp \"Hello Sworld\""
   ]
  },
  {
   "cell_type": "markdown",
   "metadata": {},
   "source": [
    "<span class=\"hint\">\n",
    "    You can print anything showable to STDOUT using the \"print\" function.\n",
    "</span>"
   ]
  },
  {
   "cell_type": "markdown",
   "metadata": {},
   "source": [
    "### Exercise: Quoth the Raven\n"
   ]
  },
  {
   "cell_type": "code",
   "execution_count": null,
   "metadata": {},
   "outputs": [],
   "source": [
    "'Nevermore'"
   ]
  },
  {
   "cell_type": "markdown",
   "metadata": {},
   "source": [
    "<span class=\"hint\">\n",
    "    Single quotes are reserved for individual characters.\n",
    "</span>"
   ]
  },
  {
   "cell_type": "markdown",
   "metadata": {},
   "source": [
    "### Exercise: Parens"
   ]
  },
  {
   "cell_type": "code",
   "execution_count": null,
   "metadata": {},
   "outputs": [],
   "source": [
    "(print \"Hi!\"))"
   ]
  },
  {
   "cell_type": "markdown",
   "metadata": {},
   "source": [
    "<span class=\"hint\">\n",
    "    Your parentheses must be balanced.\n",
    "</span>"
   ]
  },
  {
   "cell_type": "markdown",
   "metadata": {},
   "source": [
    "### Exercise: Combining Strings"
   ]
  },
  {
   "cell_type": "code",
   "execution_count": null,
   "metadata": {},
   "outputs": [],
   "source": [
    "print $ \"Hello\" ++ \"World\""
   ]
  },
  {
   "cell_type": "markdown",
   "metadata": {},
   "source": [
    "<span class=\"hint\">\n",
    "    Precedence matters. Parenthesise your constructed string.\n",
    "</span>"
   ]
  },
  {
   "cell_type": "markdown",
   "metadata": {},
   "source": [
    "### Exercise: Variables"
   ]
  },
  {
   "cell_type": "code",
   "execution_count": null,
   "metadata": {},
   "outputs": [],
   "source": [
    "h = \"Hello\"\n",
    "W = \"World\"\n",
    "p = h ++ \" \" ++ W\n",
    "print p"
   ]
  },
  {
   "cell_type": "markdown",
   "metadata": {},
   "source": [
    "<span class=\"hint\">\n",
    "    Variables must start with a lower-case letter.\n",
    "</span>"
   ]
  },
  {
   "cell_type": "markdown",
   "metadata": {},
   "source": [
    "### Exercise: Type Information"
   ]
  },
  {
   "cell_type": "code",
   "execution_count": null,
   "metadata": {
    "scrolled": true
   },
   "outputs": [],
   "source": [
    ":type q"
   ]
  },
  {
   "cell_type": "markdown",
   "metadata": {},
   "source": [
    "<span class=\"hint\">\n",
    "    Commands starting with \":\" are special directives for use in GHCi -\n",
    "    An interactive session of the GHC compiler. <br>\n",
    "    We are using iHaskell - which has many of the same features.\n",
    "</span>"
   ]
  },
  {
   "cell_type": "markdown",
   "metadata": {},
   "source": [
    "### Exercise: Type Annotations"
   ]
  },
  {
   "cell_type": "code",
   "execution_count": null,
   "metadata": {},
   "outputs": [],
   "source": [
    "x :: String\n",
    "x = 1"
   ]
  },
  {
   "cell_type": "markdown",
   "metadata": {},
   "source": [
    "<span class=\"hint\">\n",
    "    1 is not a string. You can interrogate 1 with the \":type\" directive for more information.\n",
    "</span>"
   ]
  },
  {
   "cell_type": "markdown",
   "metadata": {},
   "source": [
    "### Sorbet: 99 Bottles of String on the Wall"
   ]
  },
  {
   "cell_type": "code",
   "execution_count": 2,
   "metadata": {},
   "outputs": [
    {
     "data": {
      "text/html": [
       "<style>/* Styles used for the Hoogle display in the pager */\n",
       ".hoogle-doc {\n",
       "display: block;\n",
       "padding-bottom: 1.3em;\n",
       "padding-left: 0.4em;\n",
       "}\n",
       ".hoogle-code {\n",
       "display: block;\n",
       "font-family: monospace;\n",
       "white-space: pre;\n",
       "}\n",
       ".hoogle-text {\n",
       "display: block;\n",
       "}\n",
       ".hoogle-name {\n",
       "color: green;\n",
       "font-weight: bold;\n",
       "}\n",
       ".hoogle-head {\n",
       "font-weight: bold;\n",
       "}\n",
       ".hoogle-sub {\n",
       "display: block;\n",
       "margin-left: 0.4em;\n",
       "}\n",
       ".hoogle-package {\n",
       "font-weight: bold;\n",
       "font-style: italic;\n",
       "}\n",
       ".hoogle-module {\n",
       "font-weight: bold;\n",
       "}\n",
       ".hoogle-class {\n",
       "font-weight: bold;\n",
       "}\n",
       ".get-type {\n",
       "color: green;\n",
       "font-weight: bold;\n",
       "font-family: monospace;\n",
       "display: block;\n",
       "white-space: pre-wrap;\n",
       "}\n",
       ".show-type {\n",
       "color: green;\n",
       "font-weight: bold;\n",
       "font-family: monospace;\n",
       "margin-left: 1em;\n",
       "}\n",
       ".mono {\n",
       "font-family: monospace;\n",
       "display: block;\n",
       "}\n",
       ".err-msg {\n",
       "color: red;\n",
       "font-style: italic;\n",
       "font-family: monospace;\n",
       "white-space: pre;\n",
       "display: block;\n",
       "}\n",
       "#unshowable {\n",
       "color: red;\n",
       "font-weight: bold;\n",
       "}\n",
       ".err-msg.in.collapse {\n",
       "padding-top: 0.7em;\n",
       "}\n",
       ".highlight-code {\n",
       "white-space: pre;\n",
       "font-family: monospace;\n",
       "}\n",
       ".suggestion-warning { \n",
       "font-weight: bold;\n",
       "color: rgb(200, 130, 0);\n",
       "}\n",
       ".suggestion-error { \n",
       "font-weight: bold;\n",
       "color: red;\n",
       "}\n",
       ".suggestion-name {\n",
       "font-weight: bold;\n",
       "}\n",
       "</style><span class='err-msg'>&lt;interactive&gt;:1:1: error:<br/>    • No instance for (Num String) arising from a use of ‘+’<br/>    • In the expression: 99 + string_1 + 99 + string_2 + 98 + string_3<br/>      In an equation for ‘it’: it = 99 + string_1 + 99 + string_2 + 98 + string_3</span>"
      ],
      "text/plain": [
       "<interactive>:1:1: error:\n",
       "    • No instance for (Num String) arising from a use of ‘+’\n",
       "    • In the expression: 99 + string_1 + 99 + string_2 + 98 + string_3\n",
       "      In an equation for ‘it’: it = 99 + string_1 + 99 + string_2 + 98 + string_3"
      ]
     },
     "metadata": {},
     "output_type": "display_data"
    }
   ],
   "source": [
    "string_1 = \" bottles of string on the wall, \"\n",
    "string_2 = \" bottles of string on the wall. \"\n",
    "string_3 = \" bottles of string, take one down get it unwound, \"\n",
    "\n",
    "99 + string_1 + 99 + string_2 + 98 + string_3"
   ]
  },
  {
   "cell_type": "markdown",
   "metadata": {},
   "source": [
    "<br><br>"
   ]
  },
  {
   "cell_type": "markdown",
   "metadata": {},
   "source": [
    "## Chapter: Numbers"
   ]
  },
  {
   "cell_type": "code",
   "execution_count": null,
   "metadata": {},
   "outputs": [],
   "source": [
    "1 ? 1 == 2"
   ]
  },
  {
   "cell_type": "markdown",
   "metadata": {},
   "source": [
    "<span class=\"hint\">\n",
    "    You can combine numbers with the usual arithmatic operations such as +, *, etc.\n",
    "</span>"
   ]
  },
  {
   "cell_type": "markdown",
   "metadata": {},
   "source": [
    "### Exercise: BFIMDAS"
   ]
  },
  {
   "cell_type": "code",
   "execution_count": null,
   "metadata": {},
   "outputs": [],
   "source": [
    "case (2 * 2 + 3, 3 + 2 * 2, (3 + 2) * 2)\n",
    "    of (7,10,10) -> \"Yay\"\n",
    "\n",
    "-- TODO: Somehow have this error out"
   ]
  },
  {
   "cell_type": "markdown",
   "metadata": {},
   "source": [
    "<div class=\"hint\">\n",
    "    BFIMDAS precendence is followed. Use parens for specific groupings.\n",
    "    <br>\n",
    "    <ul>\n",
    "        <li>Brackets\n",
    "        <li>Functions\n",
    "        <li>Indices\n",
    "        <li>Multiplication\n",
    "        <li>Division\n",
    "        <li>Addition\n",
    "        <li>Subtraction\n",
    "    </ul>\n",
    "</div>"
   ]
  },
  {
   "cell_type": "markdown",
   "metadata": {},
   "source": [
    "## Chapter: Booleans"
   ]
  },
  {
   "cell_type": "code",
   "execution_count": null,
   "metadata": {},
   "outputs": [],
   "source": [
    "if true then 1 else 2"
   ]
  },
  {
   "cell_type": "markdown",
   "metadata": {},
   "source": [
    "<span class=\"hint\">\n",
    "    Booleans True and False start with capital letters.\n",
    "</span>"
   ]
  },
  {
   "cell_type": "markdown",
   "metadata": {},
   "source": [
    "### Exercise: Equality"
   ]
  },
  {
   "cell_type": "code",
   "execution_count": null,
   "metadata": {},
   "outputs": [],
   "source": [
    "1 + 1 == \"Two\""
   ]
  },
  {
   "cell_type": "markdown",
   "metadata": {},
   "source": [
    "<span class=\"hint\">\n",
    "    Only things of the same type can be compared for equality.\n",
    "    For example: Two numbers, two strings, etc.\n",
    "</span>\n"
   ]
  },
  {
   "cell_type": "markdown",
   "metadata": {},
   "source": [
    "### Exercise: Case"
   ]
  },
  {
   "cell_type": "code",
   "execution_count": null,
   "metadata": {},
   "outputs": [],
   "source": [
    "l@3 = 2"
   ]
  },
  {
   "cell_type": "code",
   "execution_count": null,
   "metadata": {},
   "outputs": [],
   "source": [
    "l"
   ]
  },
  {
   "cell_type": "code",
   "execution_count": null,
   "metadata": {},
   "outputs": [],
   "source": [
    "3"
   ]
  },
  {
   "cell_type": "code",
   "execution_count": null,
   "metadata": {
    "scrolled": true
   },
   "outputs": [],
   "source": [
    "case 1 = 2 of\n",
    "    True  -> print \"weird\"\n",
    "    False -> print \"expected\""
   ]
  },
  {
   "cell_type": "markdown",
   "metadata": {},
   "source": [
    "<span class=\"hint\">\n",
    "    Equality is queried with the 'double-equals' operator.\n",
    "</span>"
   ]
  },
  {
   "cell_type": "markdown",
   "metadata": {},
   "source": [
    "### Exercise: Not"
   ]
  },
  {
   "cell_type": "code",
   "execution_count": null,
   "metadata": {},
   "outputs": [],
   "source": [
    "test :: Bool\n",
    "test = 5 == 10 - 4 - 1\n",
    "\n",
    "result :: Bool\n",
    "result = if not test\n",
    "    then \"right precedence\"\n",
    "    else \"left precedence\"\n",
    "    \n",
    "print result"
   ]
  },
  {
   "cell_type": "markdown",
   "metadata": {},
   "source": [
    "<span class=\"hint\">\n",
    "    The type of the result of an if expression is the type of its branches.\n",
    "</span>"
   ]
  },
  {
   "cell_type": "markdown",
   "metadata": {},
   "source": [
    "## Chapter: Lists"
   ]
  },
  {
   "cell_type": "code",
   "execution_count": null,
   "metadata": {},
   "outputs": [],
   "source": [
    "[1,2,3"
   ]
  },
  {
   "cell_type": "markdown",
   "metadata": {},
   "source": [
    "<span class=\"hint\">\n",
    "    Use balanced square braces to construct lists!\n",
    "</span>"
   ]
  },
  {
   "cell_type": "markdown",
   "metadata": {},
   "source": [
    "### Exercise: Products"
   ]
  },
  {
   "cell_type": "code",
   "execution_count": null,
   "metadata": {},
   "outputs": [],
   "source": [
    "product (1,2,3,4,5)"
   ]
  },
  {
   "cell_type": "markdown",
   "metadata": {},
   "source": [
    "<span class=\"hint\">\n",
    "    List syntax uses square brackets.\n",
    "</span>"
   ]
  },
  {
   "cell_type": "markdown",
   "metadata": {},
   "source": [
    "## Chapter: Functions"
   ]
  },
  {
   "cell_type": "code",
   "execution_count": null,
   "metadata": {},
   "outputs": [],
   "source": [
    "nth 0 (x:_ ) = x\n",
    "nth n (_:xs) = nth (pred n) xs\n",
    "\n",
    "nth 5 [1,2,3]"
   ]
  },
  {
   "cell_type": "markdown",
   "metadata": {},
   "source": [
    "<span class=\"hint\">\n",
    "    Errors can be raised when results are partially defined!\n",
    "</span>"
   ]
  },
  {
   "cell_type": "markdown",
   "metadata": {},
   "source": [
    "### Guards"
   ]
  },
  {
   "cell_type": "code",
   "execution_count": null,
   "metadata": {},
   "outputs": [],
   "source": [
    "test arg\n",
    "    | arg like \"good\"     = \"pass\"\n",
    "    | arg like \"mediocre\" = \"barely pass\"\n",
    "    | otherwise           = \"fail\""
   ]
  },
  {
   "cell_type": "markdown",
   "metadata": {},
   "source": [
    "### Operators"
   ]
  },
  {
   "cell_type": "markdown",
   "metadata": {},
   "source": [
    "## Chapter: Data"
   ]
  },
  {
   "cell_type": "code",
   "execution_count": null,
   "metadata": {},
   "outputs": [],
   "source": [
    "newtype Animal = Dog | Cat"
   ]
  },
  {
   "cell_type": "markdown",
   "metadata": {},
   "source": [
    "<span class=\"hint\">\n",
    "    You must use the 'data' keyword to define multi-constructor data-types.\n",
    "</span>"
   ]
  },
  {
   "cell_type": "markdown",
   "metadata": {},
   "source": [
    "### Exercise: Operating on Your Own Data-Types"
   ]
  },
  {
   "cell_type": "code",
   "execution_count": null,
   "metadata": {},
   "outputs": [],
   "source": [
    "whatAnimal \"woof\" = Dog\n",
    "whatAnimal \"meow\" = Cat"
   ]
  },
  {
   "cell_type": "code",
   "execution_count": null,
   "metadata": {},
   "outputs": [],
   "source": [
    "whatAnimal \"woof\""
   ]
  },
  {
   "cell_type": "markdown",
   "metadata": {},
   "source": [
    "<span class=\"hint\">\n",
    "    You must have a 'Show' instance defined for values which you wish to see!\n",
    "</span>"
   ]
  },
  {
   "cell_type": "markdown",
   "metadata": {},
   "source": [
    "### Exercise: Explicit Constructors"
   ]
  },
  {
   "cell_type": "code",
   "execution_count": null,
   "metadata": {},
   "outputs": [],
   "source": [
    "1:2:2:[] = [1,2,3]"
   ]
  },
  {
   "cell_type": "markdown",
   "metadata": {},
   "source": [
    "\n",
    "```haskell\n",
    "let (_:x:y:_) = [1..100] in [y,y,y,x]\n",
    "```\n",
    "\n",
    "## Exercise: Enumerations\n",
    "\n",
    "```haskell\n",
    "[1,2,3,4,5,6] == [1..6]\n",
    "```\n",
    "\n",
    "```haskell\n",
    "[1..6] == enumFromTo 1 6\n",
    "```\n",
    "\n",
    "## Exercise: Zipping\n",
    "\n",
    "```haskell\n",
    "[5,7,9] == zipWith (+) [1..3] [4..6]\n",
    "```\n",
    "\n",
    "# Chapter: Tuples\n",
    "\n",
    "```haskell\n",
    "let (a,b) = (1,2,3) in a * 2 + b * 3\n",
    "```\n",
    "\n",
    "\n",
    "\n",
    "# Chapter: Lists\n",
    "\n",
    "```haskell\n",
    "product (1,2,3)\n",
    "```\n",
    "\n",
    "```why\n",
    "The product function takes a list.\n",
    "Lists are written using square brackets.\n",
    "```\n",
    "\n",
    "## Exercise: Ranges\n",
    "\n",
    "```haskell\n",
    "[10..1]\n",
    "```\n",
    "\n",
    "## Exercise: Mapping\n",
    "\n",
    "```haskell\n",
    "map succ [1..10]\n",
    "```\n",
    "\n",
    "# Chapter: Lambdas\n",
    "\n",
    "```haskell\n",
    "map (\\x -> x+1) [1..10]\n",
    "```\n",
    "\n",
    "\n",
    "\n",
    "<br />\n",
    "<br />\n",
    "<br />\n",
    "<br />\n",
    "<br />\n",
    "<br />\n",
    "<br />\n",
    "<br />\n",
    "<br />\n",
    "<br />\n"
   ]
  },
  {
   "cell_type": "code",
   "execution_count": null,
   "metadata": {},
   "outputs": [],
   "source": []
  }
 ],
 "metadata": {
  "kernelspec": {
   "display_name": "Haskell",
   "language": "haskell",
   "name": "haskell"
  },
  "language_info": {
   "codemirror_mode": "ihaskell",
   "file_extension": ".hs",
   "name": "haskell",
   "version": "8.2.2"
  }
 },
 "nbformat": 4,
 "nbformat_minor": 2
}
